{
 "cells": [
  {
   "cell_type": "markdown",
   "id": "194215f5",
   "metadata": {},
   "source": [
    "# Project - House Prices: Advanced Regression Techniques\n",
    "\n",
    "The main aim of this project is to predict the house price based on various features"
   ]
  },
  {
   "cell_type": "markdown",
   "id": "a9b3f834",
   "metadata": {},
   "source": [
    "## The Lifecycle of a Data Science Project\n",
    "1. Data Analysis\n",
    "2. Feature Engineering\n",
    "3. Feature Selection\n",
    "4. Model Building\n",
    "5. Model Deployment"
   ]
  },
  {
   "cell_type": "code",
   "execution_count": null,
   "id": "37e389d3",
   "metadata": {},
   "outputs": [],
   "source": [
    "# Import Libraries\n",
    "import numpy as np\n",
    "import pandas as pd\n",
    "\n",
    "import matplotlib.pyplot as plt\n",
    "import seaborn as sns\n",
    "\n",
    "from sklearn.model_selection import train_test_split\n",
    "from sklearn.linear_model import Lasso\n",
    "from sklearn.feature_selection import SelectFromModel"
   ]
  },
  {
   "cell_type": "code",
   "execution_count": null,
   "id": "7b38b96b",
   "metadata": {},
   "outputs": [],
   "source": [
    "# Load Data\n",
    "\n",
    "def read_data(data_dir):\n",
    "    \n",
    "    dataset = pd.read_csv(data_dir)\n",
    "    return dataset"
   ]
  },
  {
   "cell_type": "code",
   "execution_count": null,
   "id": "6987f311",
   "metadata": {},
   "outputs": [],
   "source": [
    "dataset = read_data('train.csv')"
   ]
  },
  {
   "cell_type": "code",
   "execution_count": null,
   "id": "efcf9306",
   "metadata": {
    "scrolled": false
   },
   "outputs": [],
   "source": [
    "# Inspect Dataset\n",
    "print(\"Dataset's Shape is: \", dataset.shape)"
   ]
  },
  {
   "cell_type": "code",
   "execution_count": null,
   "id": "c095fa2d",
   "metadata": {},
   "outputs": [],
   "source": [
    "# Inspect the top 5 rows\n",
    "dataset.head()"
   ]
  },
  {
   "cell_type": "markdown",
   "id": "0d7941cb",
   "metadata": {},
   "source": [
    "## Step 1: Data Analysis"
   ]
  },
  {
   "cell_type": "markdown",
   "id": "80c0b495",
   "metadata": {},
   "source": [
    "### Steps to consider during a Data Analysis Project\n",
    "1. Missing Values\n",
    "2. All The Numerical Variables\n",
    "3. Distribution of the Numerical Variables\n",
    "4. Categorical Variables\n",
    "5. Cardinality of Categorical Variables\n",
    "6. Outliers\n",
    "7. Relationship between independent and dependent feature(SalePrice)"
   ]
  },
  {
   "cell_type": "markdown",
   "id": "d41987f8",
   "metadata": {},
   "source": [
    "#### 1. Missing Values"
   ]
  },
  {
   "cell_type": "code",
   "execution_count": null,
   "id": "984610c1",
   "metadata": {},
   "outputs": [],
   "source": [
    "# Percentage of Missing Values per Column (column must have NA values)\n",
    "# Step 1: Get all columns with null values\n",
    "columns_with_na = [column for column in dataset.columns if dataset[column].isna().sum() >= 1]\n",
    "# Step 2: Get the percentage\n",
    "for col in columns_with_na:\n",
    "    print(col, round(dataset[col].isna().sum()/len(dataset),4),\" % NULL Values\")"
   ]
  },
  {
   "cell_type": "markdown",
   "id": "2f6fc486",
   "metadata": {},
   "source": [
    "### Step 1: Missing Values - Map the relationship between NULL values an the target variable SalePrice"
   ]
  },
  {
   "cell_type": "code",
   "execution_count": null,
   "id": "44d255ed",
   "metadata": {},
   "outputs": [],
   "source": [
    "for column in columns_with_na:\n",
    "    \n",
    "    data = dataset.copy()\n",
    "    # Each column is mapped as either 1 or 0. 1 for NULLS and 0 for existing observations.\n",
    "    data[column] = np.where(data[column].isna(), 1, 0)\n",
    "    \n",
    "    # Calculate the mean SalePrice\n",
    "    data.groupby(column)['SalePrice'].mean().plot.bar()\n",
    "    plt.title(column)\n",
    "    plt.show()"
   ]
  },
  {
   "cell_type": "markdown",
   "id": "4bbf372d",
   "metadata": {},
   "source": [
    "### Step 2. Numerical Values"
   ]
  },
  {
   "cell_type": "code",
   "execution_count": null,
   "id": "93c6ecf5",
   "metadata": {},
   "outputs": [],
   "source": [
    "# numerical cols is a pandas Dataframe\n",
    "\n",
    "numerical_cols = dataset.select_dtypes(include = 'number')\n",
    "\n",
    "numerical_cols.head()"
   ]
  },
  {
   "cell_type": "code",
   "execution_count": null,
   "id": "05c66003",
   "metadata": {},
   "outputs": [],
   "source": [
    "# Date cols is a list\n",
    "\n",
    "date_cols = [column for column in list(numerical_cols.columns) if 'Yr' in column or 'Year' in column]\n",
    "\n",
    "date_cols"
   ]
  },
  {
   "cell_type": "code",
   "execution_count": null,
   "id": "c5f2d2ed",
   "metadata": {
    "scrolled": true
   },
   "outputs": [],
   "source": [
    "for col in date_cols:\n",
    "    \n",
    "    mean_price = dataset.groupby(col)['SalePrice'].mean()\n",
    "    mean_price.plot()\n",
    "    plt.xlabel(col)\n",
    "    plt.ylabel('SalePrice')\n",
    "    plt.show()"
   ]
  },
  {
   "cell_type": "markdown",
   "id": "3e03b49e",
   "metadata": {},
   "source": [
    "### 2.a. Numerical Values - Discrete Variables"
   ]
  },
  {
   "cell_type": "code",
   "execution_count": null,
   "id": "b3ce85fc",
   "metadata": {},
   "outputs": [],
   "source": []
  },
  {
   "cell_type": "code",
   "execution_count": null,
   "id": "6de32e6c",
   "metadata": {},
   "outputs": [],
   "source": [
    "numerical_disc_col = [col for col in list(numerical_cols.columns) if len(dataset[col].unique()) < 25 and col not in date_cols]\n",
    "print(\"The number of discrete numerical columns is: \", len(numerical_disc_col))"
   ]
  },
  {
   "cell_type": "code",
   "execution_count": null,
   "id": "658ceae1",
   "metadata": {},
   "outputs": [],
   "source": [
    "numerical_disc_col"
   ]
  },
  {
   "cell_type": "code",
   "execution_count": null,
   "id": "2ffc8a96",
   "metadata": {},
   "outputs": [],
   "source": [
    "# Relationship between Discrete Numerical Cols and SalePrice\n",
    "\n",
    "for col in numerical_disc_col:\n",
    "    data=dataset.copy()\n",
    "    data.groupby(col)['SalePrice'].mean().plot.bar()\n",
    "    plt.xlabel(col)\n",
    "    plt.ylabel('SalePrice')\n",
    "    plt.title(col)\n",
    "    plt.show()"
   ]
  },
  {
   "cell_type": "markdown",
   "id": "9cf83607",
   "metadata": {},
   "source": [
    "### 2.b. Numerical Values - Continuous Variables"
   ]
  },
  {
   "cell_type": "code",
   "execution_count": null,
   "id": "d84ebc6b",
   "metadata": {},
   "outputs": [],
   "source": [
    "numerical_cont_col = [col for col in list(numerical_cols.columns) if len(dataset[col].unique()) >= 25 and col not in date_cols]\n",
    "print(\"The number of continuous numerical columns is: \", len(numerical_cont_col))"
   ]
  },
  {
   "cell_type": "code",
   "execution_count": null,
   "id": "254bfa16",
   "metadata": {},
   "outputs": [],
   "source": [
    "numerical_cont_col"
   ]
  },
  {
   "cell_type": "code",
   "execution_count": null,
   "id": "cf230484",
   "metadata": {},
   "outputs": [],
   "source": [
    "# Relationship between Continuous Numerical Cols and SalePrice\n",
    "\n",
    "for col in numerical_cont_col:\n",
    "    data=dataset.copy()\n",
    "    data[col].hist(bins = 25)\n",
    "    plt.xlabel(col)\n",
    "    plt.ylabel(\"Count\")\n",
    "    plt.title(col)\n",
    "    plt.show()"
   ]
  },
  {
   "cell_type": "markdown",
   "id": "811403bd",
   "metadata": {},
   "source": [
    "### Step 3. Categorical Values"
   ]
  },
  {
   "cell_type": "code",
   "execution_count": null,
   "id": "bb9eddbf",
   "metadata": {},
   "outputs": [],
   "source": [
    "categorical_cols = [col for col in dataset.columns if dataset[col].dtypes=='O']\n",
    "categorical_cols"
   ]
  },
  {
   "cell_type": "code",
   "execution_count": null,
   "id": "330fd9c9",
   "metadata": {},
   "outputs": [],
   "source": [
    "for col in categorical_cols:\n",
    "    print(\"The number of categorical values for the column: \", col, \" is\", len(dataset[col].unique()))"
   ]
  },
  {
   "cell_type": "code",
   "execution_count": null,
   "id": "4ee1e14f",
   "metadata": {},
   "outputs": [],
   "source": [
    "for col in categorical_cols:\n",
    "    \n",
    "    data = dataset.copy()\n",
    "    data.groupby(col)['SalePrice'].mean().plot.bar()\n",
    "    plt.xlabel(col)\n",
    "    plt.ylabel('SalePrice')\n",
    "    plt.title(col)\n",
    "    plt.show()"
   ]
  },
  {
   "cell_type": "markdown",
   "id": "6cf183b4",
   "metadata": {},
   "source": [
    "### Step 4. Logarithmic Transformation"
   ]
  },
  {
   "cell_type": "code",
   "execution_count": null,
   "id": "dea2c49a",
   "metadata": {},
   "outputs": [],
   "source": [
    "## We will be using logarithmic transformation\n",
    "\n",
    "\n",
    "for col in numerical_cont_col:\n",
    "    data=dataset.copy()\n",
    "    if 0 in data[col].unique():\n",
    "        pass\n",
    "    else:\n",
    "        data[col]=np.log(data[col])\n",
    "        data['SalePrice']=np.log(data['SalePrice'])\n",
    "        plt.scatter(data[col],data['SalePrice'])\n",
    "        plt.xlabel(col)\n",
    "        plt.ylabel('SalesPrice')\n",
    "        plt.title(col)\n",
    "        plt.show()\n",
    "        "
   ]
  },
  {
   "cell_type": "markdown",
   "id": "443d22ae",
   "metadata": {},
   "source": [
    "### Step 5. Outliers"
   ]
  },
  {
   "cell_type": "code",
   "execution_count": null,
   "id": "ddc30904",
   "metadata": {},
   "outputs": [],
   "source": [
    "for col in numerical_cont_col:\n",
    "    data=dataset.copy()\n",
    "    if 0 in data[col].unique():\n",
    "        pass\n",
    "    else:\n",
    "        data[col]=np.log(data[col])\n",
    "        data.boxplot(column=col)\n",
    "        plt.ylabel(col)\n",
    "        plt.title(col)\n",
    "        plt.show()\n",
    "        \n",
    "    "
   ]
  },
  {
   "cell_type": "markdown",
   "id": "98d745b3",
   "metadata": {},
   "source": [
    "## Feature Engineering"
   ]
  },
  {
   "cell_type": "markdown",
   "id": "12e52f7e",
   "metadata": {},
   "source": [
    "We will be performing all the below steps in Feature Engineering\n",
    "\n",
    "1. Missing values\n",
    "2. Temporal variables\n",
    "3. Categorical variables: remove rare labels\n",
    "4. Standarise the values of the variables to the same range"
   ]
  },
  {
   "cell_type": "code",
   "execution_count": null,
   "id": "8a969427",
   "metadata": {},
   "outputs": [],
   "source": [
    "# Data leakage is possible so we need to split the data first and then apply Feature Engineering\n",
    "\n",
    "\n",
    "X_train,X_test,y_train,y_test=train_test_split(dataset,dataset['SalePrice'],test_size=0.1,random_state=0)"
   ]
  },
  {
   "cell_type": "code",
   "execution_count": null,
   "id": "4579a1cc",
   "metadata": {},
   "outputs": [],
   "source": [
    "X_train.shape, X_test.shape"
   ]
  },
  {
   "cell_type": "markdown",
   "id": "094259c4",
   "metadata": {},
   "source": [
    "### Missing Values - Categorical Variables"
   ]
  },
  {
   "cell_type": "code",
   "execution_count": null,
   "id": "23631c8d",
   "metadata": {},
   "outputs": [],
   "source": [
    "# Categorical Values\n",
    "categorical_features_nan = [feature for feature in categorical_cols if dataset[feature].isnull().sum() > 1]"
   ]
  },
  {
   "cell_type": "code",
   "execution_count": null,
   "id": "ec16879b",
   "metadata": {
    "scrolled": true
   },
   "outputs": [],
   "source": [
    "for feature in categorical_features_nan:\n",
    "    print(\"{}: {}% missing values\".format(feature, np.round(dataset[feature].isnull().sum()/len(dataset),4)))"
   ]
  },
  {
   "cell_type": "code",
   "execution_count": null,
   "id": "fc420522",
   "metadata": {},
   "outputs": [],
   "source": [
    "def replace_cat_feature(dataset,features_nan):\n",
    "    data=dataset.copy()\n",
    "    data[features_nan]=data[features_nan].fillna('Missing')\n",
    "    return data\n",
    "\n",
    "dataset=replace_cat_feature(dataset,categorical_features_nan)\n",
    "\n",
    "dataset[categorical_features_nan].isnull().sum()"
   ]
  },
  {
   "cell_type": "code",
   "execution_count": null,
   "id": "34e63de6",
   "metadata": {},
   "outputs": [],
   "source": [
    "dataset.head()"
   ]
  },
  {
   "cell_type": "markdown",
   "id": "b530c88b",
   "metadata": {},
   "source": [
    "### Missing Values - Numerical Variables"
   ]
  },
  {
   "cell_type": "code",
   "execution_count": null,
   "id": "2cbf19b5",
   "metadata": {},
   "outputs": [],
   "source": [
    "num_features_nan = [feature for feature in dataset.columns if dataset[feature].isnull().sum() > 1 and feature not in date_cols]\n",
    "\n",
    "for feature in num_features_nan:\n",
    "    print(\"{}: {}% missing values\".format(feature, np.round(dataset[feature].isnull().sum()/len(dataset),4)))"
   ]
  },
  {
   "cell_type": "code",
   "execution_count": null,
   "id": "77f47427",
   "metadata": {},
   "outputs": [],
   "source": [
    "def replace_num_feature(dataframe,features_nan):\n",
    "    \n",
    "    data = dataset.copy()\n",
    "    median_data_features_nan = data[features_nan].median()\n",
    "    data[features_nan] = data[features_nan].fillna(median_data_features_nan)\n",
    "    return data\n",
    "\n",
    "dataset = replace_num_feature(dataset, num_features_nan)\n",
    "dataset[num_features_nan].isnull().sum()"
   ]
  },
  {
   "cell_type": "markdown",
   "id": "9a2020d2",
   "metadata": {},
   "source": [
    "### Numerical Variables - Log Transformations"
   ]
  },
  {
   "cell_type": "code",
   "execution_count": null,
   "id": "5be0519b",
   "metadata": {},
   "outputs": [],
   "source": [
    "num_wout_zeros = [feature for feature in dataset.columns if not dataset[feature].isin([0]).any() and dataset[feature].dtype != 'O']"
   ]
  },
  {
   "cell_type": "code",
   "execution_count": null,
   "id": "a798d190",
   "metadata": {},
   "outputs": [],
   "source": [
    "num_wout_zeros"
   ]
  },
  {
   "cell_type": "code",
   "execution_count": null,
   "id": "781e4e8c",
   "metadata": {},
   "outputs": [],
   "source": [
    "for feature in num_wout_zeros:\n",
    "    dataset[feature]=np.log(dataset[feature])"
   ]
  },
  {
   "cell_type": "markdown",
   "id": "75553692",
   "metadata": {},
   "source": [
    "## Feature Selection"
   ]
  },
  {
   "cell_type": "code",
   "execution_count": null,
   "id": "1671a584",
   "metadata": {},
   "outputs": [],
   "source": [
    "y_train=dataset[['SalePrice']]"
   ]
  },
  {
   "cell_type": "code",
   "execution_count": null,
   "id": "ca057f55",
   "metadata": {},
   "outputs": [],
   "source": [
    "## drop dependent feature from dataset\n",
    "X_train=dataset.drop(['Id','SalePrice'],axis=1)"
   ]
  },
  {
   "cell_type": "code",
   "execution_count": null,
   "id": "e9d758d0",
   "metadata": {},
   "outputs": [],
   "source": [
    "### Apply Feature Selection\n",
    "# first, I specify the Lasso Regression model, and I\n",
    "# select a suitable alpha (equivalent of penalty).\n",
    "# The bigger the alpha the less features that will be selected.\n",
    "\n",
    "# Then I use the selectFromModel object from sklearn, which\n",
    "# will select the features which coefficients are non-zero\n",
    "\n",
    "feature_sel_model = SelectFromModel(Lasso(alpha=0.005, random_state=0)) # remember to set the seed, the random state in this function\n",
    "feature_sel_model.fit(X_train, y_train)"
   ]
  },
  {
   "cell_type": "code",
   "execution_count": null,
   "id": "8aedfd73",
   "metadata": {},
   "outputs": [],
   "source": [
    "feature_sel_model.get_support()"
   ]
  },
  {
   "cell_type": "code",
   "execution_count": null,
   "id": "94c1c0f2",
   "metadata": {},
   "outputs": [],
   "source": [
    "# let's print the number of total and selected features\n",
    "\n",
    "# this is how we can make a list of the selected features\n",
    "selected_feat = X_train.columns[(feature_sel_model.get_support())]\n",
    "\n",
    "# let's print some stats\n",
    "print('total features: {}'.format((X_train.shape[1])))\n",
    "print('selected features: {}'.format(len(selected_feat)))\n",
    "print('features with coefficients shrank to zero: {}'.format(\n",
    "    np.sum(sel_.estimator_.coef_ == 0)))"
   ]
  },
  {
   "cell_type": "code",
   "execution_count": null,
   "id": "cf2bb893",
   "metadata": {},
   "outputs": [],
   "source": [
    "selected_feat"
   ]
  },
  {
   "cell_type": "code",
   "execution_count": null,
   "id": "2f4139a9",
   "metadata": {},
   "outputs": [],
   "source": [
    "X_train=X_train[selected_feat]"
   ]
  },
  {
   "cell_type": "code",
   "execution_count": null,
   "id": "fb91bf7c",
   "metadata": {},
   "outputs": [],
   "source": [
    "X_train.head()"
   ]
  }
 ],
 "metadata": {
  "kernelspec": {
   "display_name": "Python 3 (ipykernel)",
   "language": "python",
   "name": "python3"
  },
  "language_info": {
   "codemirror_mode": {
    "name": "ipython",
    "version": 3
   },
   "file_extension": ".py",
   "mimetype": "text/x-python",
   "name": "python",
   "nbconvert_exporter": "python",
   "pygments_lexer": "ipython3",
   "version": "3.9.7"
  }
 },
 "nbformat": 4,
 "nbformat_minor": 5
}
